{
 "cells": [
  {
   "cell_type": "code",
   "execution_count": 13,
   "id": "c08aa8b9-80e9-450d-bd3f-f62bb609e63e",
   "metadata": {},
   "outputs": [],
   "source": [
    "import pandas as pd\n",
    "from pathlib import Path\n"
   ]
  },
  {
   "cell_type": "code",
   "execution_count": 7,
   "id": "881b124b-f418-4be4-bb4e-ca3061a63d07",
   "metadata": {},
   "outputs": [
    {
     "name": "stdout",
     "output_type": "stream",
     "text": [
      "2022-03-14 17:21:48.927977\n"
     ]
    },
    {
     "data": {
      "text/plain": [
       "Timestamp('2022-03-14 17:21:48.927977')"
      ]
     },
     "execution_count": 7,
     "metadata": {},
     "output_type": "execute_result"
    }
   ],
   "source": [
    "x=pd.to_datetime(\"today\")\n",
    "print(x)\n",
    "x\n",
    "y=pd.csv_read"
   ]
  },
  {
   "cell_type": "code",
   "execution_count": 10,
   "id": "d47ed990-ef8a-4c08-a7f5-db69a1e49331",
   "metadata": {},
   "outputs": [
    {
     "name": "stdout",
     "output_type": "stream",
     "text": [
      "this is my hour of sentience.\n"
     ]
    }
   ],
   "source": [
    "print(\"this is my hour of sentience.\")"
   ]
  },
  {
   "cell_type": "code",
   "execution_count": null,
   "id": "ac694c6a-100a-4f38-a4de-2a0885aaf70b",
   "metadata": {},
   "outputs": [],
   "source": []
  }
 ],
 "metadata": {
  "kernelspec": {
   "display_name": "Python 3 (ipykernel)",
   "language": "python",
   "name": "python3"
  },
  "language_info": {
   "codemirror_mode": {
    "name": "ipython",
    "version": 3
   },
   "file_extension": ".py",
   "mimetype": "text/x-python",
   "name": "python",
   "nbconvert_exporter": "python",
   "pygments_lexer": "ipython3",
   "version": "3.9.7"
  }
 },
 "nbformat": 4,
 "nbformat_minor": 5
}
